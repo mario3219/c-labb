{
 "cells": [
  {
   "cell_type": "markdown",
   "metadata": {},
   "source": [
    "# get()\n",
    "A bitset (or an integer treated as bits) is just a sequence of bits stored in memory. There's no built-in way to \"directly access\" the nth bit like an array. Instead, we use bitwise operations to extract the value at a specific position.\n",
    "\n",
    "👉 Computers store integers in binary, and there's no simple way to say \"give me bit #pos\" without using bitwise shifts and masks.\n",
    "\n",
    "The left shift (1L << pos) creates a mask where only the bit at position pos is set to 1, and all others are 0.\n",
    "Example: Let's say bits is this 8-bit value"
   ]
  },
  {
   "cell_type": "code",
   "execution_count": null,
   "metadata": {
    "vscode": {
     "languageId": "ignore"
    }
   },
   "outputs": [],
   "source": [
    "bits = 11010010  (binary)  = 0xD2 = 210 (decimal)"
   ]
  },
  {
   "cell_type": "markdown",
   "metadata": {},
   "source": [
    "3. How Left Shift Creates a Mask\n",
    "Step 1: Start with 1 (binary 00000001)"
   ]
  },
  {
   "cell_type": "code",
   "execution_count": null,
   "metadata": {
    "vscode": {
     "languageId": "ignore"
    }
   },
   "outputs": [],
   "source": [
    "00000001  (1 in binary)\n"
   ]
  },
  {
   "cell_type": "markdown",
   "metadata": {},
   "source": [
    "Step 2: Shift it left by pos = 3 (1L << 3)"
   ]
  },
  {
   "cell_type": "code",
   "execution_count": null,
   "metadata": {
    "vscode": {
     "languageId": "ignore"
    }
   },
   "outputs": [],
   "source": [
    "00000001 << 3  →  00001000"
   ]
  },
  {
   "cell_type": "markdown",
   "metadata": {},
   "source": [
    "🔹 This creates a mask where only bit 3 is 1, and all others are 0\n",
    "\n",
    "Step 3: Use Bitwise AND (&)\n",
    "\n",
    "Now, we use:"
   ]
  },
  {
   "cell_type": "code",
   "execution_count": null,
   "metadata": {
    "vscode": {
     "languageId": "ignore"
    }
   },
   "outputs": [],
   "source": [
    "(bits & (1L << pos)) != 0"
   ]
  },
  {
   "cell_type": "markdown",
   "metadata": {},
   "source": [
    "🔹 This checks only bit pos without affecting the rest."
   ]
  },
  {
   "cell_type": "code",
   "execution_count": null,
   "metadata": {
    "vscode": {
     "languageId": "ignore"
    }
   },
   "outputs": [],
   "source": [
    "   11010010   (bits)\n",
    "&  00001000   (mask from 1L << 3)\n",
    "--------------\n",
    "   00000000   (Result: 0 → bit 3 is OFF)\n"
   ]
  },
  {
   "cell_type": "markdown",
   "metadata": {},
   "source": [
    "Since the result is 0, bit 3 is 0 (false)."
   ]
  },
  {
   "cell_type": "markdown",
   "metadata": {},
   "source": [
    "4. What Happens If the Bit Is Set?\n",
    "If bits = 11011010 instead, then:"
   ]
  },
  {
   "cell_type": "code",
   "execution_count": null,
   "metadata": {
    "vscode": {
     "languageId": "ignore"
    }
   },
   "outputs": [],
   "source": [
    "   11011010   (bits)\n",
    "&  00001000   (mask from 1L << 3)\n",
    "--------------\n",
    "   00001000   (Result: non-zero → bit 3 is ON)\n"
   ]
  },
  {
   "cell_type": "markdown",
   "metadata": {},
   "source": [
    "Since the result is non-zero, bit 3 is 1 (true)."
   ]
  },
  {
   "cell_type": "markdown",
   "metadata": {},
   "source": [
    "# set()\n",
    "* 1L << pos creates a mask where only the bit at pos is 1.\n",
    "* The if (b) condition determines whether to set (1) or clear (0) that bit.\n",
    "\n",
    "How bits |= (1L << pos) Works (Setting a Bit):\n",
    "\n",
    "Assume:"
   ]
  },
  {
   "cell_type": "code",
   "execution_count": null,
   "metadata": {
    "vscode": {
     "languageId": "ignore"
    }
   },
   "outputs": [],
   "source": [
    "bits = 0b00000010  // (decimal 2)\n",
    "pos = 3"
   ]
  },
  {
   "cell_type": "markdown",
   "metadata": {},
   "source": [
    "Step 1: Compute 1L << pos"
   ]
  },
  {
   "cell_type": "code",
   "execution_count": null,
   "metadata": {
    "vscode": {
     "languageId": "ignore"
    }
   },
   "outputs": [],
   "source": [
    "1L << 3  →  0b00001000"
   ]
  },
  {
   "cell_type": "markdown",
   "metadata": {},
   "source": [
    "Step 2: Perform OR Operation (|=)"
   ]
  },
  {
   "cell_type": "code",
   "execution_count": null,
   "metadata": {
    "vscode": {
     "languageId": "ignore"
    }
   },
   "outputs": [],
   "source": [
    "  00000010  (bits)\n",
    "| 00001000  (mask)\n",
    "------------\n",
    "  00001010  (new bits)  = 10 (decimal)"
   ]
  },
  {
   "cell_type": "markdown",
   "metadata": {},
   "source": [
    "How bits &= ~ (1L << pos) Works (Clearing a Bit)\n",
    "\n",
    "Assume:"
   ]
  },
  {
   "cell_type": "code",
   "execution_count": null,
   "metadata": {
    "vscode": {
     "languageId": "ignore"
    }
   },
   "outputs": [],
   "source": [
    "bits = 0b00001010  // (decimal 10)\n",
    "pos = 3\n",
    "\n",
    "1L << 3  →  0b00001000"
   ]
  },
  {
   "cell_type": "markdown",
   "metadata": {},
   "source": [
    "Step 2: Apply Bitwise NOT (~)"
   ]
  },
  {
   "cell_type": "code",
   "execution_count": null,
   "metadata": {
    "vscode": {
     "languageId": "ignore"
    }
   },
   "outputs": [],
   "source": [
    "~(1L << 3)  → ~0b00001000  = 0b11110111"
   ]
  },
  {
   "cell_type": "markdown",
   "metadata": {},
   "source": [
    "Step 3: Perform AND Operation (&=)"
   ]
  },
  {
   "cell_type": "code",
   "execution_count": null,
   "metadata": {
    "vscode": {
     "languageId": "ignore"
    }
   },
   "outputs": [],
   "source": [
    "  00001010  (bits)\n",
    "& 11110111  (mask)\n",
    "------------\n",
    "  00000010  (new bits)  = 2 (decimal)"
   ]
  },
  {
   "cell_type": "markdown",
   "metadata": {},
   "source": [
    "# 2.2 Subscripting"
   ]
  },
  {
   "cell_type": "code",
   "execution_count": null,
   "metadata": {
    "vscode": {
     "languageId": "plaintext"
    }
   },
   "outputs": [],
   "source": [
    "BitReference    -   proxy för en bit i ett word\n",
    "                    Består av en pointer till word med bits, och int med positionen av biten\n",
    "\n",
    "BitStorage      -   En typ, består av en pointer till word med bits (rättare sagt, pointer till en unsigned long -> själva bitsen)\n",
    "\n",
    "Notes: bits lagras som long genom:\n"
   ]
  },
  {
   "cell_type": "code",
   "execution_count": null,
   "metadata": {
    "vscode": {
     "languageId": "ignore"
    }
   },
   "outputs": [],
   "source": [
    "// i class Bitset:\n",
    "...\n",
    "private:\n",
    "    using BitStorage = unsigned long;\n",
    "    BitStorage bits;"
   ]
  },
  {
   "cell_type": "code",
   "execution_count": null,
   "metadata": {
    "vscode": {
     "languageId": "plaintext"
    }
   },
   "outputs": [],
   "source": [
    "Hierarki:\n",
    "\n",
    "Bitset (bits klass)                             \n",
    "    ^                                           \n",
    "    |                                               ----> BitReference\n",
    "    v\n",
    "BitStorage (unsigned long, behållare för bits)"
   ]
  }
 ],
 "metadata": {
  "language_info": {
   "name": "python"
  }
 },
 "nbformat": 4,
 "nbformat_minor": 2
}
